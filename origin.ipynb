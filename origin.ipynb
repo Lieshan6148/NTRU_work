{
 "cells": [
  {
   "cell_type": "code",
   "execution_count": null,
   "metadata": {
    "vscode": {
     "languageId": "plaintext"
    }
   },
   "outputs": [
    {
     "name": "stdout",
     "output_type": "stream",
     "text": [
      "Loading secret key...\n"
     ]
    },
    {
     "ename": "FileNotFoundError",
     "evalue": "[Errno 2] No such file or directory: 'SET PATH OF DATA HERE/sk.sobj'",
     "output_type": "error",
     "traceback": [
      "\u001b[0;31m---------------------------------------------------------------------------\u001b[0m",
      "\u001b[0;31mFileNotFoundError\u001b[0m                         Traceback (most recent call last)",
      "Cell \u001b[0;32mIn[1], line 20\u001b[0m\n\u001b[1;32m     18\u001b[0m \u001b[38;5;66;03m# precomputed data; this is for reproducibility \u001b[39;00m\n\u001b[1;32m     19\u001b[0m \u001b[38;5;28mprint\u001b[39m(\u001b[38;5;124m\"\u001b[39m\u001b[38;5;124mLoading secret key...\u001b[39m\u001b[38;5;124m\"\u001b[39m)\n\u001b[0;32m---> 20\u001b[0m S \u001b[38;5;241m=\u001b[39m \u001b[43mload\u001b[49m\u001b[43m(\u001b[49m\u001b[43mPATH\u001b[49m\u001b[38;5;241;43m+\u001b[39;49m\u001b[38;5;124;43m\"\u001b[39;49m\u001b[38;5;124;43m/sk.sobj\u001b[39;49m\u001b[38;5;124;43m\"\u001b[39;49m\u001b[43m)\u001b[49m \u001b[38;5;66;03m# secret key\u001b[39;00m\n\u001b[1;32m     21\u001b[0m S_ \u001b[38;5;241m=\u001b[39m load(PATH\u001b[38;5;241m+\u001b[39m\u001b[38;5;124m\"\u001b[39m\u001b[38;5;124m/skinv.sobj\u001b[39m\u001b[38;5;124m\"\u001b[39m) \u001b[38;5;66;03m# inverse mod q\u001b[39;00m\n\u001b[1;32m     23\u001b[0m \u001b[38;5;28mprint\u001b[39m (\u001b[38;5;124m\"\u001b[39m\u001b[38;5;124mLoading gadget...\u001b[39m\u001b[38;5;124m\"\u001b[39m)\n",
      "File \u001b[0;32m~/miniconda3/envs/sage/lib/python3.9/site-packages/sage/misc/persist.pyx:190\u001b[0m, in \u001b[0;36msage.misc.persist.load (build/cythonized/sage/misc/persist.c:4795)\u001b[0;34m()\u001b[0m\n\u001b[1;32m    188\u001b[0m \n\u001b[1;32m    189\u001b[0m     ## Load file by absolute filename\n\u001b[0;32m--> 190\u001b[0m     with open(filename, 'rb') as fobj:\n\u001b[1;32m    191\u001b[0m         X = loads(fobj.read(), compress=compress, **kwargs)\n\u001b[1;32m    192\u001b[0m     try:\n",
      "\u001b[0;31mFileNotFoundError\u001b[0m: [Errno 2] No such file or directory: 'SET PATH OF DATA HERE/sk.sobj'"
     ]
    }
   ],
   "source": [
    "import time\n",
    "from fpylll import *\n",
    "from fpylll.algorithms.bkz2 import BKZReduction as BKZ2\n",
    "from sage.modules.free_module_integer import IntegerLattice\n",
    "\n",
    "def CenteredMod(a, q):\n",
    "    a = a.mod(q)\n",
    "    if a <= floor(q/2):\n",
    "        return a\n",
    "    else:\n",
    "        return a-q\n",
    "\n",
    "PATH = \"SET PATH OF DATA HERE\"\n",
    "    \n",
    "# parameters\n",
    "n = 2^8\n",
    "q = 2^42\n",
    "# precomputed data; this is for reproducibility \n",
    "print(\"Loading secret key...\")\n",
    "S = load(PATH+\"/sk.sobj\") # secret key\n",
    "S_ = load(PATH+\"/skinv.sobj\") # inverse mod q\n",
    "\n",
    "print (\"Loading gadget...\")\n",
    "G = load(PATH+\"/gadget.sobj\") # gadget matrix\n",
    "\n",
    "## If you want to test on your own data, uncomment below\n",
    "# Zq = ZZ.quo(q)\n",
    "# print(\"build secret key...\")\n",
    "# while True:\n",
    "#     print(\"Try...\")\n",
    "#     S0 = Matrix(Zq, [ [ randint(0,1) for _ in range(n) ] for _ in range(n) ])\n",
    "#     if S0.is_invertible():\n",
    "#         S = S0.change_ring(ZZ)\n",
    "#         break\n",
    "# S_ = S0.inverse().change_ring(ZZ) #S^-1 mod q seen in ZZ\n",
    "# gadget matrix\n",
    "# G = block_matrix( [ [ 2^i*identity_matrix(n) for i in range(log(q,2)) ] ] )\n",
    "\n",
    "### BUILD PUBLIC DATA ###\n",
    "print(\"Computing cipher of Id...\")\n",
    "TIME = time.time()\n",
    "E_Id = random_matrix(ZZ, n, log(q,2)*n, x=0, y=2) # E is secret encryption noise\n",
    "C_Id = S_ * (E_Id[:n,:n] - G[:n, :n]) \n",
    "C_Id = Matrix(ZZ, [ [ CenteredMod(e, q) for e in C_Id[i] ] for i in range(n) ] ) #first block of cipher\n",
    "print(\"Done. time: \", round(time.time() - TIME)) # takes ~20s\n",
    "\n",
    "print(\"Building basis of NTRU lattice...\")\n",
    "TIME = time.time()\n",
    "B = block_matrix([ [ q*identity_matrix(n), zero_matrix(n) ], [ C_Id, identity_matrix(n) ] ] )\n",
    "B = IntegerMatrix.from_matrix(B) # type conversion, between 3-5 mins\n",
    "print(\"Done. time: \", round(time.time() - TIME))\n",
    "\n",
    "### PREPROC PHASE FOR FPYLLL ###\n",
    "k = 280 \n",
    "print(\"Building submatrix of size 2*k =\", 2*k, \"...\")\n",
    "TIME = time.time()\n",
    "Bk = B.submatrix(range(n-k,n+k), range(n-k,n+k)) # ~30s\n",
    "FPLLL.set_precision(180) \n",
    "GSO_Bk = GSO.Mat(Bk, float_type='mpfr')\n",
    "print(\"Preprocessing...\")\n",
    "Bk_BKZ = BKZ2(GSO_Bk) \n",
    "print(\"Done. time: \", round(time.time() - TIME))   \n",
    "\n",
    "### BKZ PHASE ###\n",
    "flags = BKZ.AUTO_ABORT|BKZ.MAX_LOOPS|BKZ.GH_BND|BKZ.VERBOSE\n",
    "beta = 20\n",
    "par = BKZ.Param(block_size=beta, strategies=BKZ.DEFAULT_STRATEGY, flags=flags, max_loops=4)\n",
    "print(\"BKZ reduction with beta =\", beta, \"...\")\n",
    "TIME = time.time()\n",
    "DONE = Bk_BKZ(par) #actual BKZ algorithm; updates Bk in place; ~15 hours\n",
    "# if it fails because infinite loop in babai, set higher precision in FPLLL.set_precision() and rerun without restarting.\n",
    "print(\"Done. time: \", round(time.time() - TIME))\n",
    "\n",
    "### WE WON ###\n",
    "print( all(Bk[i].norm() < 2^24 for i in range(k)) )"
   ]
  }
 ],
 "metadata": {
  "kernelspec": {
   "display_name": "SageMath 10.4",
   "language": "sage",
   "name": "sagemath"
  },
  "language_info": {
   "codemirror_mode": {
    "name": "ipython",
    "version": 3
   },
   "file_extension": ".py",
   "mimetype": "text/x-python",
   "name": "python",
   "nbconvert_exporter": "python",
   "pygments_lexer": "ipython3",
   "version": "3.9.21"
  }
 },
 "nbformat": 4,
 "nbformat_minor": 2
}
