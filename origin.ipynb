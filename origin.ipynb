{
 "cells": [
  {
   "cell_type": "code",
   "execution_count": null,
   "metadata": {
    "vscode": {
     "languageId": "plaintext"
    }
   },
   "outputs": [
    {
     "ename": "NameError",
     "evalue": "name 'bytes_to_long' is not defined",
     "output_type": "error",
     "traceback": [
      "\u001b[0;31m---------------------------------------------------------------------------\u001b[0m",
      "\u001b[0;31mNameError\u001b[0m                                 Traceback (most recent call last)",
      "Cell \u001b[0;32mIn[1], line 96\u001b[0m\n\u001b[1;32m     91\u001b[0m \u001b[38;5;66;03m# cipher.f = x^31 - x^29 + x^28 - x^27 + x^26 + x^25 + x^24 + x^23 + x^22 - x^21 - x^19 - x^18 + x^17 - x^15 - x^14 - x^11 - x^9 + x^8 - x^6 + x^2 + x\u001b[39;00m\n\u001b[1;32m     92\u001b[0m \u001b[38;5;66;03m# cipher.g = -x^31 - x^30 - x^29 - x^28 + x^27 + x^25 - x^23 + x^22 + x^21 - x^19 + x^18 + x^15 - x^13 + x^11 - x^10 - x^9 + x^6 - x^5 + x^2 + x\u001b[39;00m\n\u001b[1;32m     93\u001b[0m \n\u001b[1;32m     94\u001b[0m \u001b[38;5;66;03m# print(\"[Pk]---------\")\u001b[39;00m\n\u001b[1;32m     95\u001b[0m h \u001b[38;5;241m=\u001b[39m cipher\u001b[38;5;241m.\u001b[39mgetPubKey()\n\u001b[0;32m---> 96\u001b[0m msg \u001b[38;5;241m=\u001b[39m \u001b[43mbytes_to_long\u001b[49m(flag)\n\u001b[1;32m     97\u001b[0m encode_msg \u001b[38;5;241m=\u001b[39m cipher\u001b[38;5;241m.\u001b[39mencode(msg)\n\u001b[1;32m     98\u001b[0m c \u001b[38;5;241m=\u001b[39m cipher\u001b[38;5;241m.\u001b[39mencrypt(encode_msg)\n",
      "\u001b[0;31mNameError\u001b[0m: name 'bytes_to_long' is not defined"
     ]
    }
   ],
   "source": [
    "import time\n",
    "from fpylll import *\n",
    "from fpylll.algorithms.bkz2 import BKZReduction as BKZ2\n",
    "from sage.modules.free_module_integer import IntegerLattice\n",
    "\n",
    "def CenteredMod(a, q):\n",
    "    a = a.mod(q)\n",
    "    if a <= floor(q/2):\n",
    "        return a\n",
    "    else:\n",
    "        return a-q\n",
    "\n",
    "PATH = \"SET PATH OF DATA HERE\"\n",
    "    \n",
    "# parameters\n",
    "n = 2^10\n",
    "q = 2^42\n",
    "# precomputed data; this is for reproducibility \n",
    "print(\"Loading secret key...\")\n",
    "S = load(PATH+\"/sk.sobj\") # secret key\n",
    "S_ = load(PATH+\"/skinv.sobj\") # inverse mod q\n",
    "\n",
    "print (\"Loading gadget...\")\n",
    "G = load(PATH+\"/gadget.sobj\") # gadget matrix\n",
    "\n",
    "## If you want to test on your own data, uncomment below\n",
    "# Zq = ZZ.quo(q)\n",
    "# print(\"build secret key...\")\n",
    "# while True:\n",
    "#     print(\"Try...\")\n",
    "#     S0 = Matrix(Zq, [ [ randint(0,1) for _ in range(n) ] for _ in range(n) ])\n",
    "#     if S0.is_invertible():\n",
    "#         S = S0.change_ring(ZZ)\n",
    "#         break\n",
    "# S_ = S0.inverse().change_ring(ZZ) #S^-1 mod q seen in ZZ\n",
    "# gadget matrix\n",
    "# G = block_matrix( [ [ 2^i*identity_matrix(n) for i in range(log(q,2)) ] ] )\n",
    "\n",
    "### BUILD PUBLIC DATA ###\n",
    "print(\"Computing cipher of Id...\")\n",
    "TIME = time.time()\n",
    "E_Id = random_matrix(ZZ, n, log(q,2)*n, x=0, y=2) # E is secret encryption noise\n",
    "C_Id = S_ * (E_Id[:n,:n] - G[:n, :n]) \n",
    "C_Id = Matrix(ZZ, [ [ CenteredMod(e, q) for e in C_Id[i] ] for i in range(n) ] ) #first block of cipher\n",
    "print(\"Done. time: \", round(time.time() - TIME)) # takes ~20s\n",
    "\n",
    "print(\"Building basis of NTRU lattice...\")\n",
    "TIME = time.time()\n",
    "B = block_matrix([ [ q*identity_matrix(n), zero_matrix(n) ], [ C_Id, identity_matrix(n) ] ] )\n",
    "B = IntegerMatrix.from_matrix(B) # type conversion, between 3-5 mins\n",
    "print(\"Done. time: \", round(time.time() - TIME))\n",
    "\n",
    "### PREPROC PHASE FOR FPYLLL ###\n",
    "k = 280 \n",
    "print(\"Building submatrix of size 2*k =\", 2*k, \"...\")\n",
    "TIME = time.time()\n",
    "Bk = B.submatrix(range(n-k,n+k), range(n-k,n+k)) # ~30s\n",
    "FPLLL.set_precision(180) \n",
    "GSO_Bk = GSO.Mat(Bk, float_type='mpfr')\n",
    "print(\"Preprocessing...\")\n",
    "Bk_BKZ = BKZ2(GSO_Bk) \n",
    "print(\"Done. time: \", round(time.time() - TIME))   \n",
    "\n",
    "### BKZ PHASE ###\n",
    "flags = BKZ.AUTO_ABORT|BKZ.MAX_LOOPS|BKZ.GH_BND|BKZ.VERBOSE\n",
    "beta = 20\n",
    "par = BKZ.Param(block_size=beta, strategies=BKZ.DEFAULT_STRATEGY, flags=flags, max_loops=4)\n",
    "print(\"BKZ reduction with beta =\", beta, \"...\")\n",
    "TIME = time.time()\n",
    "DONE = Bk_BKZ(par) #actual BKZ algorithm; updates Bk in place; ~15 hours\n",
    "# if it fails because infinite loop in babai, set higher precision in FPLLL.set_precision() and rerun without restarting.\n",
    "print(\"Done. time: \", round(time.time() - TIME))\n",
    "\n",
    "### WE WON ###\n",
    "print( all(Bk[i].norm() < 2^24 for i in range(k)) )"
   ]
  }
 ],
 "metadata": {
  "kernelspec": {
   "display_name": "SageMath 10.4",
   "language": "sage",
   "name": "sagemath"
  },
  "language_info": {
   "codemirror_mode": {
    "name": "ipython",
    "version": 3
   },
   "file_extension": ".py",
   "mimetype": "text/x-python",
   "name": "python",
   "nbconvert_exporter": "python",
   "pygments_lexer": "ipython3",
   "version": "3.9.21"
  }
 },
 "nbformat": 4,
 "nbformat_minor": 2
}
